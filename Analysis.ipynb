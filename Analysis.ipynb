{
 "cells": [
  {
   "cell_type": "markdown",
   "metadata": {
    "ExecuteTime": {
     "end_time": "2020-05-05T13:10:05.327535Z",
     "start_time": "2020-05-05T13:10:05.325609Z"
    }
   },
   "source": [
    "# Token-level analysis"
   ]
  },
  {
   "cell_type": "code",
   "execution_count": 176,
   "metadata": {
    "ExecuteTime": {
     "end_time": "2020-05-05T13:48:36.015710Z",
     "start_time": "2020-05-05T13:48:36.008724Z"
    }
   },
   "outputs": [],
   "source": [
    "from BERTQG.token_generation import load_model, generate_token\n",
    "import numpy as np"
   ]
  },
  {
   "cell_type": "code",
   "execution_count": 177,
   "metadata": {
    "ExecuteTime": {
     "end_time": "2020-05-05T13:48:39.958660Z",
     "start_time": "2020-05-05T13:48:36.190839Z"
    }
   },
   "outputs": [
    {
     "name": "stderr",
     "output_type": "stream",
     "text": [
      "05/05/2020 13:48:36 - INFO - BERTQG.tokenization -   loading vocabulary file BERTQG/models/bert-base-uncased/vocab.txt\n",
      "05/05/2020 13:48:36 - INFO - BERTQG.modeling -   loading archive file BERTQG/models/bert-base-uncased\n",
      "05/05/2020 13:48:36 - INFO - BERTQG.modeling -   Model config {\n",
      "  \"attention_probs_dropout_prob\": 0.1,\n",
      "  \"hidden_act\": \"gelu\",\n",
      "  \"hidden_dropout_prob\": 0.1,\n",
      "  \"hidden_size\": 768,\n",
      "  \"initializer_range\": 0.02,\n",
      "  \"intermediate_size\": 3072,\n",
      "  \"max_position_embeddings\": 512,\n",
      "  \"num_attention_heads\": 12,\n",
      "  \"num_hidden_layers\": 12,\n",
      "  \"type_vocab_size\": 3,\n",
      "  \"vocab_size\": 30522\n",
      "}\n",
      "\n"
     ]
    },
    {
     "name": "stdout",
     "output_type": "stream",
     "text": [
      "Load BERTQG/models/lm_10k_QG/pytorch_model.bin\n"
     ]
    },
    {
     "name": "stderr",
     "output_type": "stream",
     "text": [
      "05/05/2020 13:48:38 - INFO - BERTQG.tokenization -   loading vocabulary file BERTQG/models/bert-base-uncased/vocab.txt\n",
      "05/05/2020 13:48:38 - INFO - BERTQG.modeling -   loading archive file BERTQG/models/bert-base-uncased\n",
      "05/05/2020 13:48:38 - INFO - BERTQG.modeling -   Model config {\n",
      "  \"attention_probs_dropout_prob\": 0.1,\n",
      "  \"hidden_act\": \"gelu\",\n",
      "  \"hidden_dropout_prob\": 0.1,\n",
      "  \"hidden_size\": 768,\n",
      "  \"initializer_range\": 0.02,\n",
      "  \"intermediate_size\": 3072,\n",
      "  \"max_position_embeddings\": 512,\n",
      "  \"num_attention_heads\": 12,\n",
      "  \"num_hidden_layers\": 12,\n",
      "  \"type_vocab_size\": 3,\n",
      "  \"vocab_size\": 30522\n",
      "}\n",
      "\n"
     ]
    },
    {
     "name": "stdout",
     "output_type": "stream",
     "text": [
      "Load BERTQG/models/uqa_10k_QG/pytorch_model.bin\n"
     ]
    }
   ],
   "source": [
    "# model chkecpoint paths\n",
    "bert_model = 'BERTQG/models/bert-base-uncased'\n",
    "lm_qg = 'BERTQG/models/lm_10k_QG/pytorch_model.bin'\n",
    "uqa_qg = 'BERTQG/models/uqa_10k_QG/pytorch_model.bin'\n",
    "\n",
    "# load models\n",
    "lm_qg, _, _ = load_model(bert_model, lm_qg)\n",
    "uqa_qg, tokenizer, device = load_model(bert_model, uqa_qg)"
   ]
  },
  {
   "cell_type": "code",
   "execution_count": 178,
   "metadata": {
    "ExecuteTime": {
     "end_time": "2020-05-05T13:48:39.963898Z",
     "start_time": "2020-05-05T13:48:39.960123Z"
    }
   },
   "outputs": [],
   "source": [
    "# util functions\n",
    "\n",
    "def topk_retriever(probs, topk):\n",
    "    '''\n",
    "    Input:\n",
    "        - probs: probability distribution over vocab (output distribution)\n",
    "        - topk: k to return\n",
    "    Output:\n",
    "        - list of tokens (top 1 to k)\n",
    "    '''\n",
    "    return tokenizer.convert_ids_to_tokens(reversed(np.argsort(probs)[-topk:].numpy().tolist()))\n",
    "\n",
    "def ignore_probs(probs, idx_list):\n",
    "    '''\n",
    "    Input:\n",
    "        - probs: probability distribution over vocab (output distribution)\n",
    "        - idx_list: index list to ignore (to force it as -inf)\n",
    "    Output:\n",
    "        - new probs where probabilities of some tokens are ignored\n",
    "    '''\n",
    "    for idx in idx_list:\n",
    "        probs[idx] = -float('inf')\n",
    "    return probs"
   ]
  },
  {
   "cell_type": "code",
   "execution_count": 179,
   "metadata": {
    "ExecuteTime": {
     "end_time": "2020-05-05T13:48:40.035185Z",
     "start_time": "2020-05-05T13:48:39.965481Z"
    }
   },
   "outputs": [],
   "source": [
    "context = 'On November 4, 2010, Jakes released his third album, Burning Down The Underground.  Jakes recorded the album primarily at his home studio in San Francisco, with bandmate, Matthew Whitemyer, co-engineering.  The Music Cycle wrote, \"Burning Down The Underground stays true to the deep bluesy rock sound that has come to garner Jakes such critical acclaim.  At the same time, however, Jakes continues to push the boundaries of sound and genre creating unique and interesting fusions of music\".'\n",
    "question_text = \"what does jakes release\"\n",
    "ans = \"Burning Down The Underground\"\n",
    "ans_start = context.find(ans)\n",
    "assert context[ans_start:ans_start+len(ans)] == ans"
   ]
  },
  {
   "cell_type": "code",
   "execution_count": 180,
   "metadata": {
    "ExecuteTime": {
     "end_time": "2020-05-05T13:48:40.192156Z",
     "start_time": "2020-05-05T13:48:40.041514Z"
    }
   },
   "outputs": [],
   "source": [
    "lm_qi_token, lm_qi_idx, lm_qi_probs = generate_token(lm_qg, tokenizer, device, context, question_text, ans, ans_start)\n",
    "uqa_qi_token, uqa_qi_idx, uqa_qi_probs = generate_token(uqa_qg, tokenizer, device, context, question_text, ans, ans_start)"
   ]
  },
  {
   "cell_type": "code",
   "execution_count": 181,
   "metadata": {
    "ExecuteTime": {
     "end_time": "2020-05-05T13:48:40.196483Z",
     "start_time": "2020-05-05T13:48:40.193549Z"
    }
   },
   "outputs": [
    {
     "data": {
      "text/plain": [
       "('?', 1029)"
      ]
     },
     "execution_count": 181,
     "metadata": {},
     "output_type": "execute_result"
    }
   ],
   "source": [
    "lm_qi_token, lm_qi_idx"
   ]
  },
  {
   "cell_type": "code",
   "execution_count": 182,
   "metadata": {
    "ExecuteTime": {
     "end_time": "2020-05-05T13:48:40.278179Z",
     "start_time": "2020-05-05T13:48:40.197758Z"
    }
   },
   "outputs": [
    {
     "data": {
      "text/plain": [
       "('your', 2115)"
      ]
     },
     "execution_count": 182,
     "metadata": {},
     "output_type": "execute_result"
    }
   ],
   "source": [
    "uqa_qi_token, uqa_qi_idx"
   ]
  },
  {
   "cell_type": "code",
   "execution_count": 183,
   "metadata": {
    "ExecuteTime": {
     "end_time": "2020-05-05T13:48:40.363017Z",
     "start_time": "2020-05-05T13:48:40.283196Z"
    }
   },
   "outputs": [
    {
     "name": "stdout",
     "output_type": "stream",
     "text": [
      "topk idx: [1029, 2006, 2144, 1999, 2005, 2013, 2017, 1010, 2004, 1996]\n",
      "topk tokens: ['?', 'on', 'since', 'in', 'for', 'from', 'you', ',', 'as', 'the']\n"
     ]
    }
   ],
   "source": [
    "print('topk idx:', reversed(np.argsort(lm_qi_probs)[-10:]).tolist())\n",
    "print('topk tokens:', topk_retriever(lm_qi_probs, 10))"
   ]
  },
  {
   "cell_type": "code",
   "execution_count": 184,
   "metadata": {
    "ExecuteTime": {
     "end_time": "2020-05-05T13:48:40.476387Z",
     "start_time": "2020-05-05T13:48:40.370200Z"
    }
   },
   "outputs": [
    {
     "name": "stdout",
     "output_type": "stream",
     "text": [
      "topk idx: [2115, 2010, 2006, 5180, 2256, 1029, 2017, 1010, 1996, 2026]\n",
      "topk tokens: ['your', 'his', 'on', 'jake', 'our', '?', 'you', ',', 'the', 'my']\n"
     ]
    }
   ],
   "source": [
    "print('topk idx:', reversed(np.argsort(uqa_qi_probs)[-10:]).tolist())\n",
    "print('topk tokens:', topk_retriever(uqa_qi_probs, 10))"
   ]
  },
  {
   "cell_type": "code",
   "execution_count": 185,
   "metadata": {
    "ExecuteTime": {
     "end_time": "2020-05-05T13:48:40.604723Z",
     "start_time": "2020-05-05T13:48:40.481889Z"
    }
   },
   "outputs": [
    {
     "name": "stdout",
     "output_type": "stream",
     "text": [
      "topk idx: [2006, 2144, 1999, 2005, 2013, 2017, 1010, 2004, 1996, 102]\n",
      "topk tokens: ['on', 'since', 'in', 'for', 'from', 'you', ',', 'as', 'the', '[SEP]']\n"
     ]
    }
   ],
   "source": [
    "# you may want lm not to generate '?' or a certain token in general for current step\n",
    "lm_qi_probs[lm_qi_idx] = -float('inf')\n",
    "\n",
    "# re-check\n",
    "print('topk idx:', reversed(np.argsort(lm_qi_probs)[-10:]).tolist())\n",
    "print('topk tokens:', topk_retriever(lm_qi_probs, 10))"
   ]
  },
  {
   "cell_type": "code",
   "execution_count": null,
   "metadata": {},
   "outputs": [],
   "source": []
  },
  {
   "cell_type": "code",
   "execution_count": 186,
   "metadata": {
    "ExecuteTime": {
     "end_time": "2020-05-05T13:48:40.676415Z",
     "start_time": "2020-05-05T13:48:40.606263Z"
    }
   },
   "outputs": [],
   "source": [
    "context = 'On November 4, 2010, Jakes released his third album, Burning Down The Underground.  Jakes recorded the album primarily at his home studio in San Francisco, with bandmate, Matthew Whitemyer, co-engineering.  The Music Cycle wrote, \"Burning Down The Underground stays true to the deep bluesy rock sound that has come to garner Jakes such critical acclaim.  At the same time, however, Jakes continues to push the boundaries of sound and genre creating unique and interesting fusions of music\".'\n",
    "question_text = \"how many people .\"\n",
    "ans = \"Burning Down The Underground\"\n",
    "ans_start = context.find(ans)\n",
    "assert context[ans_start:ans_start+len(ans)] == ans"
   ]
  },
  {
   "cell_type": "code",
   "execution_count": 187,
   "metadata": {
    "ExecuteTime": {
     "end_time": "2020-05-05T13:48:40.832737Z",
     "start_time": "2020-05-05T13:48:40.681876Z"
    }
   },
   "outputs": [],
   "source": [
    "lm_qi_token, lm_qi_idx, lm_qi_probs = generate_token(lm_qg, tokenizer, device, context, question_text, ans, ans_start)\n",
    "uqa_qi_token, uqa_qi_idx, uqa_qi_probs = generate_token(uqa_qg, tokenizer, device, context, question_text, ans, ans_start)"
   ]
  },
  {
   "cell_type": "code",
   "execution_count": 188,
   "metadata": {
    "ExecuteTime": {
     "end_time": "2020-05-05T13:48:40.843747Z",
     "start_time": "2020-05-05T13:48:40.835880Z"
    }
   },
   "outputs": [
    {
     "name": "stdout",
     "output_type": "stream",
     "text": [
      "topk idx: [2040, 2054, 2073, 2043, 2129, 2339, 3005, 3183, 1000, 2024]\n",
      "topk tokens: ['who', 'what', 'where', 'when', 'how', 'why', 'whose', 'whom', '\"', 'are']\n"
     ]
    }
   ],
   "source": [
    "print('topk idx:', reversed(np.argsort(uqa_qi_probs)[-10:]).tolist())\n",
    "print('topk tokens:', topk_retriever(uqa_qi_probs, 10))"
   ]
  },
  {
   "cell_type": "code",
   "execution_count": 189,
   "metadata": {
    "ExecuteTime": {
     "end_time": "2020-05-05T13:48:40.997171Z",
     "start_time": "2020-05-05T13:48:40.963473Z"
    }
   },
   "outputs": [
    {
     "name": "stdout",
     "output_type": "stream",
     "text": [
      "ignore_idx_list: [2054, 2040, 2073, 2043, 2129, 2029, 2339, 3005, 3183]\n",
      "topk idx: [1000, 2024, 2065, 1998, 2003, 2006, 2001, 2021, 2030, 2004]\n",
      "topk tokens: ['\"', 'are', 'if', 'and', 'is', 'on', 'was', 'but', 'or', 'as']\n"
     ]
    }
   ],
   "source": [
    "# you may want to force wh-word is not generated after first wh-word\n",
    "ignore_idx_list = tokenizer.convert_tokens_to_ids(['what', 'who', 'where', 'when', 'how', 'which', 'why', 'whose', 'whom'])\n",
    "print('ignore_idx_list:', ignore_idx_list)\n",
    "lm_qi_probs = ignore_probs(uqa_qi_probs, ignore_idx_list)\n",
    "\n",
    "# re-check\n",
    "print('topk idx:', reversed(np.argsort(uqa_qi_probs)[-10:]).tolist())\n",
    "print('topk tokens:', topk_retriever(uqa_qi_probs, 10))"
   ]
  },
  {
   "cell_type": "code",
   "execution_count": null,
   "metadata": {},
   "outputs": [],
   "source": []
  }
 ],
 "metadata": {
  "kernelspec": {
   "display_name": "Python 3",
   "language": "python",
   "name": "python3"
  },
  "language_info": {
   "codemirror_mode": {
    "name": "ipython",
    "version": 3
   },
   "file_extension": ".py",
   "mimetype": "text/x-python",
   "name": "python",
   "nbconvert_exporter": "python",
   "pygments_lexer": "ipython3",
   "version": "3.7.6"
  },
  "toc": {
   "base_numbering": 1,
   "nav_menu": {},
   "number_sections": false,
   "sideBar": true,
   "skip_h1_title": false,
   "title_cell": "Table of Contents",
   "title_sidebar": "Contents",
   "toc_cell": false,
   "toc_position": {},
   "toc_section_display": true,
   "toc_window_display": false
  }
 },
 "nbformat": 4,
 "nbformat_minor": 2
}
